{
  "cells": [
    {
      "cell_type": "markdown",
      "metadata": {
        "id": "view-in-github",
        "colab_type": "text"
      },
      "source": [
        "<a href=\"https://colab.research.google.com/github/MassGH2023/Statistics-and-Math/blob/main/Visualizing_Data_v2.ipynb\" target=\"_parent\"><img src=\"https://colab.research.google.com/assets/colab-badge.svg\" alt=\"Open In Colab\"/></a>"
      ]
    },
    {
      "cell_type": "markdown",
      "metadata": {
        "id": "eebfae27-1aad-4857-9cbd-b10789dbf451"
      },
      "source": [
        "<p style=\"text-align:center\">\n",
        "    <a href=\"https://skills.network\" target=\"_blank\">\n",
        "    <img src=\"https://cf-courses-data.s3.us.cloud-object-storage.appdomain.cloud/assets/logos/SN_web_lightmode.png\" width=\"200\" alt=\"Skills Network Logo\">\n",
        "    </a>\n",
        "</p>\n"
      ]
    },
    {
      "cell_type": "markdown",
      "metadata": {
        "id": "c990eebd-b1dd-41b1-ac8b-6870553f037f"
      },
      "source": [
        "# **Data Visualization**\n"
      ]
    },
    {
      "cell_type": "markdown",
      "metadata": {
        "id": "afb84bc0-3ab8-4843-af39-3d681b0ce536"
      },
      "source": [
        "Estimated time needed: **30** minutes\n"
      ]
    },
    {
      "cell_type": "markdown",
      "metadata": {
        "id": "fb16abe5-7018-4b84-9b1b-fa204723f095"
      },
      "source": [
        "In this lab, you will learn how to visualize and interpret data\n"
      ]
    },
    {
      "cell_type": "markdown",
      "metadata": {
        "id": "704f435d-b863-4676-a0f7-480cbdf7b6cd"
      },
      "source": [
        "## Objectives\n"
      ]
    },
    {
      "cell_type": "markdown",
      "metadata": {
        "id": "1cd5ba3d-a1d7-4574-ba78-fae6ce6446ef"
      },
      "source": [
        "* Import Libraries\n",
        "* Lab Exercises\n",
        "    * Identifying duplicates\n",
        "    * Plotting Scatterplots\n",
        "    * Plotting Boxplots\n"
      ]
    },
    {
      "cell_type": "markdown",
      "metadata": {
        "id": "c060a9d8-ea87-48b4-98ce-12cc1791cace"
      },
      "source": [
        "----\n"
      ]
    },
    {
      "cell_type": "markdown",
      "metadata": {
        "id": "3764f785-3981-44a4-950c-44c0ecb0159b"
      },
      "source": [
        "## Import Libraries\n"
      ]
    },
    {
      "cell_type": "markdown",
      "metadata": {
        "id": "94c34526-c5ce-4f2c-8a01-f3a3b946c2fb"
      },
      "source": [
        "All Libraries required for this lab are listed below. The libraries pre-installed on Skills Network Labs are commented. If you run this notebook in a different environment, e.g. your desktop, you may need to uncomment and install certain libraries.\n"
      ]
    },
    {
      "cell_type": "code",
      "metadata": {
        "id": "96bebddf-d1a0-4da7-ba1c-f5b274961878"
      },
      "outputs": [],
      "source": [
        "#install specific version of libraries used in lab\n",
        "!pip install pandas\n",
        "!pip install numpy\n",
        "!pip install scipy\n",
        "!pip install seaborn\n",
        "!pip install matplotlib"
      ],
      "execution_count": null
    },
    {
      "cell_type": "markdown",
      "metadata": {
        "id": "7865cfb6-4785-4d54-82b0-6df0e5a3ecd1"
      },
      "source": [
        "Import the libraries we need for the lab\n"
      ]
    },
    {
      "cell_type": "code",
      "metadata": {
        "id": "f33e41fd-e544-4e49-9873-d7ed5913e1b9"
      },
      "outputs": [],
      "source": [
        "import numpy as np\n",
        "import pandas as pd\n",
        "import seaborn as sns\n",
        "import matplotlib.pyplot as plt"
      ],
      "execution_count": null
    },
    {
      "cell_type": "markdown",
      "metadata": {
        "id": "3fd307d7-c18b-4a3c-b5ee-9851154fdef1"
      },
      "source": [
        "Read in the csv file from the url using the request library\n"
      ]
    },
    {
      "cell_type": "code",
      "metadata": {
        "id": "2e79bf34-f522-4f0b-ad22-fa8913568349"
      },
      "outputs": [],
      "source": [
        "ratings_url = 'https://cf-courses-data.s3.us.cloud-object-storage.appdomain.cloud/IBMDeveloperSkillsNetwork-ST0151EN-SkillsNetwork/labs/teachingratings.csv'\n",
        "ratings_df = pd.read_csv(ratings_url)"
      ],
      "execution_count": null
    },
    {
      "cell_type": "markdown",
      "metadata": {
        "id": "71e08d54-7f61-46cc-bd66-521fcef9dadb"
      },
      "source": [
        "## Lab Exercises\n"
      ]
    },
    {
      "cell_type": "markdown",
      "metadata": {
        "id": "60e801df-647c-45b4-a480-3e4f374ce0e8"
      },
      "source": [
        "###  Identify all duplicate cases using prof. Using all observations, find the average and standard deviation for age. Repeat the analysis by first filtering the data set to include one observation for each instructor with a total number of observations restricted to 94.\n"
      ]
    },
    {
      "cell_type": "markdown",
      "metadata": {
        "id": "984ddbd7-87b2-4614-8188-9e03a3504b9e"
      },
      "source": [
        "Identify all duplicate cases using prof variable - find the unique values of the prof variables\n"
      ]
    },
    {
      "cell_type": "code",
      "metadata": {
        "id": "77eb6f47-4ca1-4d5c-8d70-6e432a7ccb89"
      },
      "outputs": [],
      "source": [
        "ratings_df.prof.unique()"
      ],
      "execution_count": null
    },
    {
      "cell_type": "markdown",
      "metadata": {
        "id": "2779aff8-618c-49c8-9a95-e6d423e39e0b"
      },
      "source": [
        "Print out the number of unique values in the prof variable\n"
      ]
    },
    {
      "cell_type": "code",
      "metadata": {
        "id": "e622fb85-fc7b-43b7-8fef-68f72037ad4a"
      },
      "outputs": [],
      "source": [
        "ratings_df.prof.nunique()"
      ],
      "execution_count": null
    },
    {
      "cell_type": "markdown",
      "metadata": {
        "id": "52c292f9-cd9d-4f29-957a-e0eeba8f9e40"
      },
      "source": [
        "Using all observations, Find the average and standard deviation for age\n"
      ]
    },
    {
      "cell_type": "code",
      "metadata": {
        "id": "57f1fb9b-89bf-4a35-9c40-32ef0cd3d771"
      },
      "outputs": [],
      "source": [
        "ratings_df['age'].mean()"
      ],
      "execution_count": null
    },
    {
      "cell_type": "code",
      "metadata": {
        "id": "59dad9df-ecaf-4880-87d7-a2ed78fde825"
      },
      "outputs": [],
      "source": [
        "ratings_df['age'].std()"
      ],
      "execution_count": null
    },
    {
      "cell_type": "markdown",
      "metadata": {
        "id": "47251793-1ff5-4022-a0a8-c7d003d7a4be"
      },
      "source": [
        "Repeat the analysis by first filtering the data set to include one observation for each instructor with a total number of observations restricted to 94.\n",
        "> first we drop duplicates using prof as a subset and assign it a new dataframe name called no_duplicates_ratings_df\n"
      ]
    },
    {
      "cell_type": "code",
      "metadata": {
        "id": "fd5a696a-bffe-4069-a9c0-bc772b70235a"
      },
      "outputs": [],
      "source": [
        "no_duplicates_ratings_df = ratings_df.drop_duplicates(subset =['prof'])\n",
        "no_duplicates_ratings_df.head()"
      ],
      "execution_count": null
    },
    {
      "cell_type": "markdown",
      "metadata": {
        "id": "e91e599a-d26a-4369-bc5b-8e60ff751582"
      },
      "source": [
        "> Use the new dataset to get the mean of age\n"
      ]
    },
    {
      "cell_type": "code",
      "metadata": {
        "id": "824152a6-3535-4ccf-a13e-2dd50ff2ec1a"
      },
      "outputs": [],
      "source": [
        "no_duplicates_ratings_df['age'].mean()"
      ],
      "execution_count": null
    },
    {
      "cell_type": "code",
      "metadata": {
        "id": "555bf1d6-5313-4f28-94de-e5e6f33b7ec4"
      },
      "outputs": [],
      "source": [
        "no_duplicates_ratings_df['age'].std()"
      ],
      "execution_count": null
    },
    {
      "cell_type": "markdown",
      "metadata": {
        "id": "44f7e5e4-a798-40aa-8e7b-93b2797f701b"
      },
      "source": [
        "### Using a bar chart, demonstrate if instructors teaching lower-division courses receive higher average teaching evaluations.\n"
      ]
    },
    {
      "cell_type": "code",
      "metadata": {
        "id": "6c4f3e2b-c7dd-4b89-9b2d-7be757efa942"
      },
      "outputs": [],
      "source": [
        "ratings_df.head()"
      ],
      "execution_count": null
    },
    {
      "cell_type": "markdown",
      "metadata": {
        "id": "175e10e4-1d0c-4970-8402-72ad20dacc3b"
      },
      "source": [
        "Find the average teaching evaluation in both groups of upper and lower-division\n"
      ]
    },
    {
      "cell_type": "code",
      "metadata": {
        "id": "e90574f4-3b7a-4812-9757-038e7f03c01c"
      },
      "outputs": [],
      "source": [
        "division_eval = ratings_df.groupby('division')[['eval']].mean().reset_index()"
      ],
      "execution_count": null
    },
    {
      "cell_type": "markdown",
      "metadata": {
        "id": "4f1977f6-e802-48fc-816b-2fbe046f26d1"
      },
      "source": [
        "Plot the barplot using the seaborn library\n"
      ]
    },
    {
      "cell_type": "code",
      "metadata": {
        "id": "37509e8a-e594-471b-ad9d-b51a3ca7af86"
      },
      "outputs": [],
      "source": [
        "sns.set(style=\"whitegrid\")\n",
        "ax = sns.barplot(x=\"division\", y=\"eval\", data=division_eval)"
      ],
      "execution_count": null
    },
    {
      "cell_type": "markdown",
      "metadata": {
        "id": "1fec689e-c3d6-42bc-91fd-b9d8eabd98a3"
      },
      "source": [
        "### Plot the relationship between age and teaching evaluation scores.\n"
      ]
    },
    {
      "cell_type": "markdown",
      "metadata": {
        "id": "736493d0-0e63-4775-a5b0-b9ceb1a6d8e2"
      },
      "source": [
        "Create a scatterplot with the scatterplot function in the seaborn library\n"
      ]
    },
    {
      "cell_type": "code",
      "metadata": {
        "id": "4ad67e6b-ec61-47ea-96f5-b16dce6f9b4f"
      },
      "outputs": [],
      "source": [
        "ax = sns.scatterplot(x='age', y='eval', data=ratings_df)"
      ],
      "execution_count": null
    },
    {
      "cell_type": "markdown",
      "metadata": {
        "id": "86e26106-d567-4565-87cf-39d31938391d"
      },
      "source": [
        "### Using gender-differentiated scatter plots, plot the relationship between age and teaching evaluation scores.\n"
      ]
    },
    {
      "cell_type": "markdown",
      "metadata": {
        "id": "769a98aa-b7c9-4f61-b690-10582e40bf0b"
      },
      "source": [
        "Create a scatterplot with the scatterplot function in the seaborn library this time add the <code>hue</code> argument\n"
      ]
    },
    {
      "cell_type": "code",
      "metadata": {
        "id": "620e1ab2-2601-4ccb-9981-8d8733cea476"
      },
      "outputs": [],
      "source": [
        "ax = sns.scatterplot(x='age', y='eval', hue='gender',\n",
        "                     data=ratings_df)"
      ],
      "execution_count": null
    },
    {
      "cell_type": "markdown",
      "metadata": {
        "id": "2d4c729a-bf6a-450e-9829-12d3f19f0de3"
      },
      "source": [
        "### Create a box plot for beauty scores differentiated by credits.\n"
      ]
    },
    {
      "cell_type": "markdown",
      "metadata": {
        "id": "1e5ccd06-009c-41e1-8583-1a7295ae161b"
      },
      "source": [
        "We use the <code>boxplot()</code> function from the seaborn library\n"
      ]
    },
    {
      "cell_type": "code",
      "metadata": {
        "id": "761a40de-47c8-491f-b250-9f0d041204d9"
      },
      "outputs": [],
      "source": [
        "ax = sns.boxplot(x='credits', y='beauty', data=ratings_df)"
      ],
      "execution_count": null
    },
    {
      "cell_type": "markdown",
      "metadata": {
        "id": "d89acbd6-a05e-4001-90f1-346b62252b81"
      },
      "source": [
        "### What is the number of courses taught by gender?\n"
      ]
    },
    {
      "cell_type": "markdown",
      "metadata": {
        "id": "3ff29c31-8178-46d4-83a4-feee6667c5b3"
      },
      "source": [
        "We use the <code>catplot()</code> function from the seaborn library\n"
      ]
    },
    {
      "cell_type": "code",
      "metadata": {
        "id": "d560e09e-1d35-4dce-a4d5-f79bd33e1459"
      },
      "outputs": [],
      "source": [
        "sns.catplot(x='gender', kind='count', data=ratings_df)"
      ],
      "execution_count": null
    },
    {
      "cell_type": "markdown",
      "metadata": {
        "id": "04e54c42-d307-4765-bdcb-7559405ac647"
      },
      "source": [
        "### Create a group histogram of taught by gender and tenure\n"
      ]
    },
    {
      "cell_type": "markdown",
      "metadata": {
        "id": "d1e702d4-3c4e-4894-b9a3-f46b545549c2"
      },
      "source": [
        "We will add the <code>hue = Tenure</code> argument\n"
      ]
    },
    {
      "cell_type": "code",
      "metadata": {
        "id": "3b574553-b6d2-4849-ae2a-f9c74b56be19"
      },
      "outputs": [],
      "source": [
        "sns.catplot(x='gender', hue = 'tenure', kind='count', data=ratings_df)"
      ],
      "execution_count": null
    },
    {
      "cell_type": "markdown",
      "metadata": {
        "id": "432e794a-a68b-4ca2-ada8-59ac862d2896"
      },
      "source": [
        "### Add division as another factor to the above histogram\n"
      ]
    },
    {
      "cell_type": "markdown",
      "metadata": {
        "id": "cbc53904-d13f-4e63-a0bf-f9f5006e7880"
      },
      "source": [
        "We add another argument named <code>row</code> and use the division variable as the row\n"
      ]
    },
    {
      "cell_type": "code",
      "metadata": {
        "id": "cb954bea-2746-421e-a837-259962f11c1f"
      },
      "outputs": [],
      "source": [
        "sns.catplot(x='gender', hue = 'tenure', row = 'division',\n",
        "            kind='count', data=ratings_df,\n",
        "            height = 3, aspect = 2)"
      ],
      "execution_count": null
    },
    {
      "cell_type": "markdown",
      "metadata": {
        "id": "1789a3e6-4379-4622-a127-30c9a4d59ccc"
      },
      "source": [
        "### Create a scatterplot of age and evaluation scores, differentiated by gender and tenure\n"
      ]
    },
    {
      "cell_type": "markdown",
      "metadata": {
        "id": "76e4a40d-db97-44c8-9649-5817637fc564"
      },
      "source": [
        "Use the <code>relplot()</code> function for complex scatter plots\n"
      ]
    },
    {
      "cell_type": "code",
      "metadata": {
        "id": "cd565b48-dd5e-40aa-b495-fa0cd4ff32be"
      },
      "outputs": [],
      "source": [
        "sns.relplot(x=\"age\", y=\"eval\", hue=\"gender\",\n",
        "            row=\"tenure\",\n",
        "            data=ratings_df, height = 3, aspect = 2)"
      ],
      "execution_count": null
    },
    {
      "cell_type": "markdown",
      "metadata": {
        "id": "1c43f18d-605d-46cf-bd78-f8e08e0e7e9c"
      },
      "source": [
        "### Create a distribution plot of teaching evaluation scores\n"
      ]
    },
    {
      "cell_type": "markdown",
      "metadata": {
        "id": "4a374930-6681-4fb2-852b-2fe984c8084f"
      },
      "source": [
        "We use the <code>distplot()</code> function from the seaborn library, set <code>kde = false</code> because we don'e need the curve\n"
      ]
    },
    {
      "cell_type": "code",
      "metadata": {
        "id": "76e40e66-8004-4c31-85d8-ef3a21c712fa"
      },
      "outputs": [],
      "source": [
        "ax = sns.distplot(ratings_df['eval'], kde = False)"
      ],
      "execution_count": null
    },
    {
      "cell_type": "markdown",
      "metadata": {
        "id": "a40e7a0c-05f9-4bf2-bfa3-9d629b14640f"
      },
      "source": [
        "### Create a distribution plot of teaching evaluation score with gender as a factor\n"
      ]
    },
    {
      "cell_type": "code",
      "metadata": {
        "id": "915bcde4-380a-4ff3-b917-dfb54c08506f"
      },
      "outputs": [],
      "source": [
        "## use the distplot function from the seaborn library\n",
        "sns.distplot(ratings_df[ratings_df['gender'] == 'female']['eval'], color='green', kde=False)\n",
        "sns.distplot(ratings_df[ratings_df['gender'] == 'male']['eval'], color=\"orange\", kde=False)\n",
        "plt.show()"
      ],
      "execution_count": null
    },
    {
      "cell_type": "markdown",
      "metadata": {
        "id": "59fec0ba-b701-4702-afc3-b95cac4ce03e"
      },
      "source": [
        "### Create a box plot - age of the instructor by gender\n"
      ]
    },
    {
      "cell_type": "code",
      "metadata": {
        "id": "d7ad90dd-f2c2-4a49-a77d-075ff900943a"
      },
      "outputs": [],
      "source": [
        "ax = sns.boxplot(x=\"gender\", y=\"age\", data=ratings_df)"
      ],
      "execution_count": null
    },
    {
      "cell_type": "markdown",
      "metadata": {
        "id": "bd42f0c8-9024-4ee4-8fc2-719ac7e2673f"
      },
      "source": [
        "### Compare age along with tenure and gender\n"
      ]
    },
    {
      "cell_type": "code",
      "metadata": {
        "id": "3c3ec98e-3fba-4780-8e48-59420ff3faa0"
      },
      "outputs": [],
      "source": [
        "ax = sns.boxplot(x=\"tenure\", y=\"age\", hue=\"gender\",\n",
        "                 data=ratings_df)"
      ],
      "execution_count": null
    },
    {
      "cell_type": "markdown",
      "metadata": {
        "id": "923b5742-72a1-4869-ad18-9654d1eff5bf"
      },
      "source": [
        "## Practice Questions\n"
      ]
    },
    {
      "cell_type": "markdown",
      "metadata": {
        "id": "7c1d854e-ef1d-453f-a5c5-c99e3f12a324"
      },
      "source": [
        "### Question 1: Create a distribution plot of beauty scores with Native English speaker as a factor\n",
        "* Make the color of the native English speakers plot - orange and non - native English speakers - blue\n"
      ]
    },
    {
      "cell_type": "code",
      "metadata": {
        "id": "006d616d-6cc8-45d3-a9dc-463904635eb6"
      },
      "outputs": [],
      "source": [
        "## insert code\n"
      ],
      "execution_count": null
    },
    {
      "cell_type": "markdown",
      "metadata": {
        "id": "35af847d-612f-4d23-acba-f5415e3dc1a4"
      },
      "source": [
        "Double-click **here** for the solution.\n",
        "\n",
        "<!-- The answer is below:\n",
        "sns.distplot(ratings_df[ratings_df['native'] == 'yes']['beauty'], color=\"orange\", kde=False)\n",
        "sns.distplot(ratings_df[ratings_df['native'] == 'no']['beauty'], color=\"blue\", kde=False)\n",
        "plt.show()\n",
        "-->\n"
      ]
    },
    {
      "cell_type": "markdown",
      "metadata": {
        "id": "f02ebc6e-a3a7-44d5-ad5f-1e083ea3b8ad"
      },
      "source": [
        "### Question 2: Create a Horizontal box plot of the age of the instructors by visible minority\n"
      ]
    },
    {
      "cell_type": "code",
      "metadata": {
        "id": "88f57e32-e32d-4329-b783-013d57cc7d10"
      },
      "outputs": [],
      "source": [
        "## insert code\n"
      ],
      "execution_count": null
    },
    {
      "cell_type": "markdown",
      "metadata": {
        "id": "9b123bfe-d514-4e45-bcd0-66893b7a2634"
      },
      "source": [
        "Double-click **here** for a hint.\n",
        "\n",
        "<!-- The hint is below:\n",
        "Remember that the positions of the argument determine whether it will be vertical or horizontal\n",
        "-->\n"
      ]
    },
    {
      "cell_type": "markdown",
      "metadata": {
        "id": "a9d2fa68-0604-4cc9-8bd8-15ab72e59329"
      },
      "source": [
        "Double-click **here** for the solution.\n",
        "\n",
        "<!-- The answer is below:\n",
        "ax = sns.boxplot(x=\"age\", y=\"minority\", data=ratings_df)\n",
        "-->\n"
      ]
    },
    {
      "cell_type": "markdown",
      "metadata": {
        "id": "cc68da5a-ca08-45bf-a857-9b1850759bef"
      },
      "source": [
        "### Question 3: Create a group histogram of tenure by minority and add the gender factor\n"
      ]
    },
    {
      "cell_type": "code",
      "metadata": {
        "id": "4ea134ee-387f-44a4-a68f-9041c58250e6"
      },
      "outputs": [],
      "source": [
        "## insert code"
      ],
      "execution_count": null
    },
    {
      "cell_type": "markdown",
      "metadata": {
        "id": "2f7f9671-ea23-4f07-ab5b-9471d9c84736"
      },
      "source": [
        "Double-click **here** for the solution.\n",
        "\n",
        "<!-- The answer is below:\n",
        "sns.catplot(x='tenure', hue = 'minority', row = 'gender',\n",
        "            kind='count', data=ratings_df,\n",
        "            height = 3, aspect = 2)\n",
        "-->\n"
      ]
    },
    {
      "cell_type": "markdown",
      "metadata": {
        "id": "1ce7739a-2c6a-4522-90e7-7fe2dcf3fd8a"
      },
      "source": [
        "### Question 4: Create a boxplot of the age variable\n"
      ]
    },
    {
      "cell_type": "code",
      "metadata": {
        "id": "977f0f13-9ccf-4cb9-9278-2669103ffaeb"
      },
      "outputs": [],
      "source": [
        "## insert code"
      ],
      "execution_count": null
    },
    {
      "cell_type": "markdown",
      "metadata": {
        "id": "61da22de-799e-4592-9071-43d0c3ae516d"
      },
      "source": [
        "Double-click **here** for the solution.\n",
        "\n",
        "<!-- The answer is below:\n",
        "## you only habve to specify the y-variable\n",
        "ax = sns.boxplot(y=\"age\", data=ratings_df)\n",
        "-->\n"
      ]
    },
    {
      "cell_type": "markdown",
      "metadata": {
        "id": "ac38d13b-9cc9-4aa2-81e3-5281219fe7f1"
      },
      "source": [
        "## Authors\n"
      ]
    },
    {
      "cell_type": "markdown",
      "metadata": {
        "id": "43faf2a9-fcf5-4ee3-add0-a4d6a37bb373"
      },
      "source": [
        "[Aije Egwaikhide](https://www.linkedin.com/in/aije-egwaikhide/) is a Data Scientist at IBM who holds a degree in Economics and Statistics from the University of Manitoba and a Post-grad in Business Analytics from St. Lawrence College, Kingston. She is a current employee of IBM where she started as a Junior Data Scientist at the Global Business Services (GBS) in 2018. Her main role was making meaning out of data for their Oil and Gas clients through basic statistics and advanced Machine Learning algorithms. The highlight of her time in GBS was creating a customized end-to-end Machine learning and Statistics solution on optimizing operations in the Oil and Gas wells. She moved to the Cognitive Systems Group as a Senior Data Scientist where she will be providing the team with actionable insights using Data Science techniques and further improve processes through building machine learning solutions. She recently joined the IBM Developer Skills Network group where she brings her real-world experience to the courses she creates.\n"
      ]
    },
    {
      "cell_type": "markdown",
      "metadata": {
        "id": "2cc7bb41-a1ea-4df8-8fd3-087b5d1fbafe"
      },
      "source": [
        "## Change Log\n"
      ]
    },
    {
      "cell_type": "markdown",
      "metadata": {
        "id": "ad4f2610-1ad8-46db-8897-4188a62fec4a"
      },
      "source": [
        "|  Date (YYYY-MM-DD) |  Version | Changed By  |  Change Description |\n",
        "|---|---|---|---|\n",
        "| 2020-08-14  | 0.1  | Aije Egwaikhide  |  Created the initial version of the lab |\n"
      ]
    },
    {
      "cell_type": "markdown",
      "metadata": {
        "id": "7bb5d223-47ab-4c60-a6f8-23f079747a61"
      },
      "source": [
        " Copyright &copy; 2020 IBM Corporation. This notebook and its source code are released under the terms of the [MIT License](https://cognitiveclass.ai/mit-license/).\n"
      ]
    }
  ],
  "metadata": {
    "kernelspec": {
      "name": "python3",
      "display_name": "Python 3 (ipykernel)",
      "language": "python"
    },
    "language_info": {
      "name": "python",
      "version": "3.11.9",
      "mimetype": "text/x-python",
      "codemirror_mode": {
        "name": "ipython",
        "version": 3
      },
      "pygments_lexer": "ipython3",
      "nbconvert_exporter": "python",
      "file_extension": ".py"
    },
    "prev_pub_hash": "abc15e28d88283e2b896f1071a5ee6bbc423bd0aa26fb9bdaa458c5b81f712c4",
    "colab": {
      "provenance": [],
      "include_colab_link": true
    }
  },
  "nbformat": 4,
  "nbformat_minor": 0
}